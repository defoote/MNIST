{
 "cells": [
  {
   "cell_type": "markdown",
   "metadata": {},
   "source": [
    "# Basic Neural Net w/Keras"
   ]
  },
  {
   "cell_type": "markdown",
   "metadata": {},
   "source": [
    "## Imports"
   ]
  },
  {
   "cell_type": "code",
   "execution_count": 155,
   "metadata": {},
   "outputs": [],
   "source": [
    "import numpy as np\n",
    "import pandas as pd\n",
    "import matplotlib.pyplot as plt\n",
    "import seaborn as sns"
   ]
  },
  {
   "cell_type": "code",
   "execution_count": 156,
   "metadata": {},
   "outputs": [],
   "source": [
    "%matplotlib inline\n",
    "sns.set_style('darkgrid')"
   ]
  },
  {
   "cell_type": "markdown",
   "metadata": {},
   "source": [
    "## Import data from Keras"
   ]
  },
  {
   "cell_type": "code",
   "execution_count": 157,
   "metadata": {},
   "outputs": [],
   "source": [
    "from keras.datasets import mnist\n",
    "(x_train, y_train), (x_test, y_test) = mnist.load_data()"
   ]
  },
  {
   "cell_type": "markdown",
   "metadata": {},
   "source": [
    "## Import necessary Keras functions"
   ]
  },
  {
   "cell_type": "code",
   "execution_count": 158,
   "metadata": {},
   "outputs": [],
   "source": [
    "from keras.models import Sequential\n",
    "from keras.layers import Dense,Conv2D,Flatten,Dropout,MaxPooling2D\n",
    "from keras.utils import to_categorical\n",
    "from keras.models import load_model\n",
    "import keras"
   ]
  },
  {
   "cell_type": "markdown",
   "metadata": {},
   "source": [
    "## Clean Data"
   ]
  },
  {
   "cell_type": "code",
   "execution_count": 159,
   "metadata": {},
   "outputs": [],
   "source": [
    "n_train = x_train.shape[0]\n",
    "n_test = x_test.shape[0]\n",
    "n_rows = x_train.shape[1]\n",
    "n_cols = x_train.shape[2]\n",
    "\n",
    "n_classes = 10\n",
    "\n",
    "# Cast to floats and normalize \n",
    "x_train = x_train.astype('float32')\n",
    "x_test = x_test.astype('float32')\n",
    "x_train /= 255\n",
    "x_test /= 255\n",
    "\n",
    "# Reshape for Conv2D layers\n",
    "x_train = x_train.reshape(n_train,n_rows,n_cols,1)\n",
    "x_test = x_test.reshape(n_test,n_rows,n_cols,1)\n",
    "\n",
    "# One Hot Encode categorical \n",
    "y_train = to_categorical(y_train,n_classes)\n",
    "y_test = to_categorical(y_test,n_classes)"
   ]
  },
  {
   "cell_type": "markdown",
   "metadata": {},
   "source": [
    "## Create and Fit NN"
   ]
  },
  {
   "cell_type": "code",
   "execution_count": 160,
   "metadata": {},
   "outputs": [
    {
     "name": "stdout",
     "output_type": "stream",
     "text": [
      "Train on 60000 samples, validate on 10000 samples\n",
      "Epoch 1/10\n",
      "60000/60000 [==============================] - 48s 805us/step - loss: 0.2090 - accuracy: 0.9364 - val_loss: 0.0752 - val_accuracy: 0.9773\n",
      "Epoch 2/10\n",
      "60000/60000 [==============================] - 45s 757us/step - loss: 0.0780 - accuracy: 0.9760 - val_loss: 0.0468 - val_accuracy: 0.9843\n",
      "Epoch 3/10\n",
      "60000/60000 [==============================] - 46s 767us/step - loss: 0.0580 - accuracy: 0.9817 - val_loss: 0.0419 - val_accuracy: 0.9854\n",
      "Epoch 4/10\n",
      "60000/60000 [==============================] - 46s 765us/step - loss: 0.0452 - accuracy: 0.9851 - val_loss: 0.0374 - val_accuracy: 0.9877\n",
      "Epoch 5/10\n",
      "60000/60000 [==============================] - 46s 767us/step - loss: 0.0367 - accuracy: 0.9882 - val_loss: 0.0332 - val_accuracy: 0.9897\n",
      "Epoch 6/10\n",
      "60000/60000 [==============================] - 47s 781us/step - loss: 0.0324 - accuracy: 0.9893 - val_loss: 0.0361 - val_accuracy: 0.9888\n",
      "Epoch 7/10\n",
      "60000/60000 [==============================] - 47s 777us/step - loss: 0.0288 - accuracy: 0.9903 - val_loss: 0.0329 - val_accuracy: 0.9889\n",
      "Epoch 8/10\n",
      "60000/60000 [==============================] - 46s 770us/step - loss: 0.0240 - accuracy: 0.9915 - val_loss: 0.0342 - val_accuracy: 0.9895\n",
      "Epoch 9/10\n",
      "60000/60000 [==============================] - 46s 768us/step - loss: 0.0232 - accuracy: 0.9923 - val_loss: 0.0296 - val_accuracy: 0.9909\n",
      "Epoch 10/10\n",
      "60000/60000 [==============================] - 52s 872us/step - loss: 0.0207 - accuracy: 0.9930 - val_loss: 0.0340 - val_accuracy: 0.9899\n"
     ]
    },
    {
     "data": {
      "text/plain": [
       "<keras.callbacks.callbacks.History at 0x16db970d0>"
      ]
     },
     "execution_count": 160,
     "metadata": {},
     "output_type": "execute_result"
    }
   ],
   "source": [
    "batch_size = 32\n",
    "epochs = 10\n",
    "\n",
    "model = Sequential()\n",
    "model.add(Conv2D(filters=10,kernel_size=(3,3),activation='relu',input_shape=(n_rows,n_cols,1)))\n",
    "model.add(Conv2D(filters=10,kernel_size=(3,3),activation='relu'))\n",
    "model.add(MaxPooling2D(pool_size=2))\n",
    "model.add(Dropout(rate=0.25))\n",
    "model.add(Flatten())\n",
    "model.add(Dense(50,activation='relu'))\n",
    "model.add(Dense(10,activation='softmax'))\n",
    "\n",
    "model.compile(optimizer='Adam',loss=keras.losses.categorical_crossentropy,metrics=['accuracy'])\n",
    "\n",
    "model.fit(x_train,y_train,batch_size=batch_size,epochs=epochs,verbose=1,validation_data=(x_test,y_test))"
   ]
  },
  {
   "cell_type": "markdown",
   "metadata": {},
   "source": [
    "## Get data for submission"
   ]
  },
  {
   "cell_type": "code",
   "execution_count": 164,
   "metadata": {},
   "outputs": [],
   "source": [
    "dftest = pd.read_csv('./Data/test.csv')\n",
    "test = dftest.values\n",
    "\n",
    "# Cleaning again\n",
    "test = test.astype('float32')\n",
    "test /= 255\n",
    "test = test.reshape(len(test),n_rows,n_cols,1)"
   ]
  },
  {
   "cell_type": "markdown",
   "metadata": {},
   "source": [
    "## Make predictions"
   ]
  },
  {
   "cell_type": "code",
   "execution_count": 165,
   "metadata": {},
   "outputs": [],
   "source": [
    "predictions = model.predict(test)\n",
    "predictions = [np.argmax(x) for x in predictions]"
   ]
  },
  {
   "cell_type": "markdown",
   "metadata": {},
   "source": [
    "# Create submission file"
   ]
  },
  {
   "cell_type": "code",
   "execution_count": 166,
   "metadata": {},
   "outputs": [],
   "source": [
    "submission = pd.DataFrame(list(enumerate(predictions)),columns=['ImageId','Label']).set_index('ImageId')\n",
    "submission.index += 1\n",
    "submission.to_csv('./submission.csv')"
   ]
  },
  {
   "cell_type": "code",
   "execution_count": null,
   "metadata": {},
   "outputs": [],
   "source": []
  }
 ],
 "metadata": {
  "kernelspec": {
   "display_name": "Python 3",
   "language": "python",
   "name": "python3"
  },
  "language_info": {
   "codemirror_mode": {
    "name": "ipython",
    "version": 3
   },
   "file_extension": ".py",
   "mimetype": "text/x-python",
   "name": "python",
   "nbconvert_exporter": "python",
   "pygments_lexer": "ipython3",
   "version": "3.7.4"
  }
 },
 "nbformat": 4,
 "nbformat_minor": 2
}
